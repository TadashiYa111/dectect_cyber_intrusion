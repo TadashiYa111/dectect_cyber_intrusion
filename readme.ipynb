{
 "cells": [
  {
   "cell_type": "markdown",
   "metadata": {},
   "source": [
    "## Detect Cyber Intrusion Using Machine Learning"
   ]
  },
  {
   "cell_type": "markdown",
   "metadata": {},
   "source": [
    "### Task 1: Import Libraries and Modules"
   ]
  },
  {
   "cell_type": "code",
   "execution_count": 1,
   "metadata": {},
   "outputs": [],
   "source": [
    "from sklearn.metrics import accuracy_score,f1_score,recall_score,precision_score\n",
    "from sklearn.model_selection import train_test_split\n",
    "import time\n",
    "import pandas as pd\n",
    "import numpy as np\n",
    "import matplotlib.pyplot as plt\n",
    "from sklearn.ensemble import RandomForestClassifier,VotingClassifier\n",
    "from sklearn.tree import DecisionTreeClassifier\n",
    "from sklearn.naive_bayes import GaussianNB\n",
    "from sklearn.metrics import accuracy_score,f1_score,recall_score,precision_score\n",
    "from sklearn.preprocessing import LabelEncoder, StandardScaler"
   ]
  },
  {
   "cell_type": "markdown",
   "metadata": {},
   "source": [
    "### Task 2: Preprocess the Dataset"
   ]
  },
  {
   "cell_type": "markdown",
   "metadata": {},
   "source": [
    "#### Load CSV file into a DataFrame"
   ]
  },
  {
   "cell_type": "code",
   "execution_count": 2,
   "metadata": {},
   "outputs": [],
   "source": [
    "data_frame = df = pd.read_csv('/usercode/SIMARGL2021.csv')"
   ]
  },
  {
   "cell_type": "markdown",
   "metadata": {},
   "source": [
    "#### Display the first few rows of the CSV file\n"
   ]
  },
  {
   "cell_type": "code",
   "execution_count": 3,
   "metadata": {},
   "outputs": [
    {
     "data": {
      "text/html": [
       "<div>\n",
       "<style scoped>\n",
       "    .dataframe tbody tr th:only-of-type {\n",
       "        vertical-align: middle;\n",
       "    }\n",
       "\n",
       "    .dataframe tbody tr th {\n",
       "        vertical-align: top;\n",
       "    }\n",
       "\n",
       "    .dataframe thead th {\n",
       "        text-align: right;\n",
       "    }\n",
       "</style>\n",
       "<table border=\"1\" class=\"dataframe\">\n",
       "  <thead>\n",
       "    <tr style=\"text-align: right;\">\n",
       "      <th></th>\n",
       "      <th>BIFLOW_DIRECTION</th>\n",
       "      <th>DIRECTION</th>\n",
       "      <th>DST_TO_SRC_SECOND_BYTES</th>\n",
       "      <th>FIREWALL_EVENT</th>\n",
       "      <th>FIRST_SWITCHED</th>\n",
       "      <th>FLOW_ACTIVE_TIMEOUT</th>\n",
       "      <th>FLOW_DURATION_MICROSECONDS</th>\n",
       "      <th>FLOW_DURATION_MILLISECONDS</th>\n",
       "      <th>FLOW_END_MILLISECONDS</th>\n",
       "      <th>FLOW_END_SEC</th>\n",
       "      <th>...</th>\n",
       "      <th>TCP_WIN_MSS_IN</th>\n",
       "      <th>TCP_WIN_MSS_OUT</th>\n",
       "      <th>TCP_WIN_SCALE_IN</th>\n",
       "      <th>TCP_WIN_SCALE_OUT</th>\n",
       "      <th>SRC_TOS</th>\n",
       "      <th>DST_TOS</th>\n",
       "      <th>L7_PROTO_NAME</th>\n",
       "      <th>SAMPLING_INTERVAL</th>\n",
       "      <th>TOTAL_FLOWS_EXP</th>\n",
       "      <th>LABEL</th>\n",
       "    </tr>\n",
       "  </thead>\n",
       "  <tbody>\n",
       "    <tr>\n",
       "      <th>0</th>\n",
       "      <td>1</td>\n",
       "      <td>0</td>\n",
       "      <td>138</td>\n",
       "      <td>0</td>\n",
       "      <td>1622174400</td>\n",
       "      <td>120</td>\n",
       "      <td>682</td>\n",
       "      <td>0</td>\n",
       "      <td>1.622170e+12</td>\n",
       "      <td>1622174400</td>\n",
       "      <td>...</td>\n",
       "      <td>0</td>\n",
       "      <td>0</td>\n",
       "      <td>0</td>\n",
       "      <td>0</td>\n",
       "      <td>0</td>\n",
       "      <td>0</td>\n",
       "      <td>DNS</td>\n",
       "      <td>1</td>\n",
       "      <td>1365973</td>\n",
       "      <td>Normal flow</td>\n",
       "    </tr>\n",
       "    <tr>\n",
       "      <th>1</th>\n",
       "      <td>1</td>\n",
       "      <td>0</td>\n",
       "      <td>75</td>\n",
       "      <td>0</td>\n",
       "      <td>1622174400</td>\n",
       "      <td>120</td>\n",
       "      <td>579</td>\n",
       "      <td>0</td>\n",
       "      <td>1.622170e+12</td>\n",
       "      <td>1622174400</td>\n",
       "      <td>...</td>\n",
       "      <td>0</td>\n",
       "      <td>0</td>\n",
       "      <td>0</td>\n",
       "      <td>0</td>\n",
       "      <td>0</td>\n",
       "      <td>0</td>\n",
       "      <td>DNS</td>\n",
       "      <td>1</td>\n",
       "      <td>1365974</td>\n",
       "      <td>Normal flow</td>\n",
       "    </tr>\n",
       "    <tr>\n",
       "      <th>2</th>\n",
       "      <td>1</td>\n",
       "      <td>0</td>\n",
       "      <td>40</td>\n",
       "      <td>0</td>\n",
       "      <td>1622174400</td>\n",
       "      <td>120</td>\n",
       "      <td>213</td>\n",
       "      <td>0</td>\n",
       "      <td>1.622170e+12</td>\n",
       "      <td>1622174400</td>\n",
       "      <td>...</td>\n",
       "      <td>0</td>\n",
       "      <td>0</td>\n",
       "      <td>0</td>\n",
       "      <td>0</td>\n",
       "      <td>40</td>\n",
       "      <td>40</td>\n",
       "      <td>Unknown</td>\n",
       "      <td>1</td>\n",
       "      <td>1365976</td>\n",
       "      <td>Normal flow</td>\n",
       "    </tr>\n",
       "    <tr>\n",
       "      <th>3</th>\n",
       "      <td>1</td>\n",
       "      <td>0</td>\n",
       "      <td>166</td>\n",
       "      <td>0</td>\n",
       "      <td>1622174400</td>\n",
       "      <td>120</td>\n",
       "      <td>257</td>\n",
       "      <td>0</td>\n",
       "      <td>1.622170e+12</td>\n",
       "      <td>1622174400</td>\n",
       "      <td>...</td>\n",
       "      <td>0</td>\n",
       "      <td>0</td>\n",
       "      <td>0</td>\n",
       "      <td>0</td>\n",
       "      <td>0</td>\n",
       "      <td>0</td>\n",
       "      <td>DNS</td>\n",
       "      <td>1</td>\n",
       "      <td>1365978</td>\n",
       "      <td>Normal flow</td>\n",
       "    </tr>\n",
       "    <tr>\n",
       "      <th>4</th>\n",
       "      <td>1</td>\n",
       "      <td>0</td>\n",
       "      <td>,</td>\n",
       "      <td>0</td>\n",
       "      <td>1622174400</td>\n",
       "      <td>120</td>\n",
       "      <td>0</td>\n",
       "      <td>0</td>\n",
       "      <td>1.622170e+12</td>\n",
       "      <td>1622174400</td>\n",
       "      <td>...</td>\n",
       "      <td>0</td>\n",
       "      <td>0</td>\n",
       "      <td>0</td>\n",
       "      <td>0</td>\n",
       "      <td>196</td>\n",
       "      <td>0</td>\n",
       "      <td>ICMP</td>\n",
       "      <td>1</td>\n",
       "      <td>1365979</td>\n",
       "      <td>Normal flow</td>\n",
       "    </tr>\n",
       "  </tbody>\n",
       "</table>\n",
       "<p>5 rows × 50 columns</p>\n",
       "</div>"
      ],
      "text/plain": [
       "   BIFLOW_DIRECTION  DIRECTION DST_TO_SRC_SECOND_BYTES  FIREWALL_EVENT  \\\n",
       "0                 1          0                     138               0   \n",
       "1                 1          0                      75               0   \n",
       "2                 1          0                      40               0   \n",
       "3                 1          0                     166               0   \n",
       "4                 1          0                       ,               0   \n",
       "\n",
       "   FIRST_SWITCHED  FLOW_ACTIVE_TIMEOUT  FLOW_DURATION_MICROSECONDS  \\\n",
       "0      1622174400                  120                         682   \n",
       "1      1622174400                  120                         579   \n",
       "2      1622174400                  120                         213   \n",
       "3      1622174400                  120                         257   \n",
       "4      1622174400                  120                           0   \n",
       "\n",
       "   FLOW_DURATION_MILLISECONDS  FLOW_END_MILLISECONDS  FLOW_END_SEC  ...  \\\n",
       "0                           0           1.622170e+12    1622174400  ...   \n",
       "1                           0           1.622170e+12    1622174400  ...   \n",
       "2                           0           1.622170e+12    1622174400  ...   \n",
       "3                           0           1.622170e+12    1622174400  ...   \n",
       "4                           0           1.622170e+12    1622174400  ...   \n",
       "\n",
       "   TCP_WIN_MSS_IN  TCP_WIN_MSS_OUT  TCP_WIN_SCALE_IN  TCP_WIN_SCALE_OUT  \\\n",
       "0               0                0                 0                  0   \n",
       "1               0                0                 0                  0   \n",
       "2               0                0                 0                  0   \n",
       "3               0                0                 0                  0   \n",
       "4               0                0                 0                  0   \n",
       "\n",
       "   SRC_TOS  DST_TOS  L7_PROTO_NAME SAMPLING_INTERVAL TOTAL_FLOWS_EXP  \\\n",
       "0        0        0            DNS                 1         1365973   \n",
       "1        0        0            DNS                 1         1365974   \n",
       "2       40       40        Unknown                 1         1365976   \n",
       "3        0        0            DNS                 1         1365978   \n",
       "4      196        0           ICMP                 1         1365979   \n",
       "\n",
       "         LABEL  \n",
       "0  Normal flow  \n",
       "1  Normal flow  \n",
       "2  Normal flow  \n",
       "3  Normal flow  \n",
       "4  Normal flow  \n",
       "\n",
       "[5 rows x 50 columns]"
      ]
     },
     "execution_count": 3,
     "metadata": {},
     "output_type": "execute_result"
    }
   ],
   "source": [
    "data_frame.head()"
   ]
  },
  {
   "cell_type": "markdown",
   "metadata": {},
   "source": [
    "#### Select the 15 features"
   ]
  },
  {
   "cell_type": "code",
   "execution_count": 4,
   "metadata": {},
   "outputs": [
    {
     "data": {
      "text/html": [
       "<div>\n",
       "<style scoped>\n",
       "    .dataframe tbody tr th:only-of-type {\n",
       "        vertical-align: middle;\n",
       "    }\n",
       "\n",
       "    .dataframe tbody tr th {\n",
       "        vertical-align: top;\n",
       "    }\n",
       "\n",
       "    .dataframe thead th {\n",
       "        text-align: right;\n",
       "    }\n",
       "</style>\n",
       "<table border=\"1\" class=\"dataframe\">\n",
       "  <thead>\n",
       "    <tr style=\"text-align: right;\">\n",
       "      <th></th>\n",
       "      <th>DST_TOS</th>\n",
       "      <th>SRC_TOS</th>\n",
       "      <th>TCP_WIN_SCALE_OUT</th>\n",
       "      <th>TCP_WIN_SCALE_IN</th>\n",
       "      <th>TCP_FLAGS</th>\n",
       "      <th>TCP_WIN_MAX_OUT</th>\n",
       "      <th>PROTOCOL</th>\n",
       "      <th>TCP_WIN_MIN_OUT</th>\n",
       "      <th>TCP_WIN_MIN_IN</th>\n",
       "      <th>TCP_WIN_MAX_IN</th>\n",
       "      <th>LAST_SWITCHED</th>\n",
       "      <th>TCP_WIN_MSS_IN</th>\n",
       "      <th>TOTAL_FLOWS_EXP</th>\n",
       "      <th>FIRST_SWITCHED</th>\n",
       "      <th>FLOW_DURATION_MILLISECONDS</th>\n",
       "      <th>LABEL</th>\n",
       "    </tr>\n",
       "  </thead>\n",
       "  <tbody>\n",
       "    <tr>\n",
       "      <th>0</th>\n",
       "      <td>0</td>\n",
       "      <td>0</td>\n",
       "      <td>0</td>\n",
       "      <td>0</td>\n",
       "      <td>0</td>\n",
       "      <td>0</td>\n",
       "      <td>17</td>\n",
       "      <td>0</td>\n",
       "      <td>0</td>\n",
       "      <td>0</td>\n",
       "      <td>1622174400</td>\n",
       "      <td>0</td>\n",
       "      <td>1365973</td>\n",
       "      <td>1622174400</td>\n",
       "      <td>0</td>\n",
       "      <td>Normal flow</td>\n",
       "    </tr>\n",
       "    <tr>\n",
       "      <th>1</th>\n",
       "      <td>0</td>\n",
       "      <td>0</td>\n",
       "      <td>0</td>\n",
       "      <td>0</td>\n",
       "      <td>0</td>\n",
       "      <td>0</td>\n",
       "      <td>17</td>\n",
       "      <td>0</td>\n",
       "      <td>0</td>\n",
       "      <td>0</td>\n",
       "      <td>1622174400</td>\n",
       "      <td>0</td>\n",
       "      <td>1365974</td>\n",
       "      <td>1622174400</td>\n",
       "      <td>0</td>\n",
       "      <td>Normal flow</td>\n",
       "    </tr>\n",
       "    <tr>\n",
       "      <th>2</th>\n",
       "      <td>40</td>\n",
       "      <td>40</td>\n",
       "      <td>0</td>\n",
       "      <td>0</td>\n",
       "      <td>22</td>\n",
       "      <td>0</td>\n",
       "      <td>6</td>\n",
       "      <td>0</td>\n",
       "      <td>1024</td>\n",
       "      <td>1024</td>\n",
       "      <td>1622174400</td>\n",
       "      <td>0</td>\n",
       "      <td>1365976</td>\n",
       "      <td>1622174400</td>\n",
       "      <td>0</td>\n",
       "      <td>Normal flow</td>\n",
       "    </tr>\n",
       "    <tr>\n",
       "      <th>3</th>\n",
       "      <td>0</td>\n",
       "      <td>0</td>\n",
       "      <td>0</td>\n",
       "      <td>0</td>\n",
       "      <td>0</td>\n",
       "      <td>0</td>\n",
       "      <td>17</td>\n",
       "      <td>0</td>\n",
       "      <td>0</td>\n",
       "      <td>0</td>\n",
       "      <td>1622174400</td>\n",
       "      <td>0</td>\n",
       "      <td>1365978</td>\n",
       "      <td>1622174400</td>\n",
       "      <td>0</td>\n",
       "      <td>Normal flow</td>\n",
       "    </tr>\n",
       "    <tr>\n",
       "      <th>4</th>\n",
       "      <td>0</td>\n",
       "      <td>196</td>\n",
       "      <td>0</td>\n",
       "      <td>0</td>\n",
       "      <td>0</td>\n",
       "      <td>0</td>\n",
       "      <td>1</td>\n",
       "      <td>0</td>\n",
       "      <td>0</td>\n",
       "      <td>0</td>\n",
       "      <td>1622174400</td>\n",
       "      <td>0</td>\n",
       "      <td>1365979</td>\n",
       "      <td>1622174400</td>\n",
       "      <td>0</td>\n",
       "      <td>Normal flow</td>\n",
       "    </tr>\n",
       "  </tbody>\n",
       "</table>\n",
       "</div>"
      ],
      "text/plain": [
       "   DST_TOS  SRC_TOS  TCP_WIN_SCALE_OUT  TCP_WIN_SCALE_IN  TCP_FLAGS  \\\n",
       "0        0        0                  0                 0          0   \n",
       "1        0        0                  0                 0          0   \n",
       "2       40       40                  0                 0         22   \n",
       "3        0        0                  0                 0          0   \n",
       "4        0      196                  0                 0          0   \n",
       "\n",
       "   TCP_WIN_MAX_OUT  PROTOCOL  TCP_WIN_MIN_OUT  TCP_WIN_MIN_IN  TCP_WIN_MAX_IN  \\\n",
       "0                0        17                0               0               0   \n",
       "1                0        17                0               0               0   \n",
       "2                0         6                0            1024            1024   \n",
       "3                0        17                0               0               0   \n",
       "4                0         1                0               0               0   \n",
       "\n",
       "   LAST_SWITCHED  TCP_WIN_MSS_IN  TOTAL_FLOWS_EXP  FIRST_SWITCHED  \\\n",
       "0     1622174400               0          1365973      1622174400   \n",
       "1     1622174400               0          1365974      1622174400   \n",
       "2     1622174400               0          1365976      1622174400   \n",
       "3     1622174400               0          1365978      1622174400   \n",
       "4     1622174400               0          1365979      1622174400   \n",
       "\n",
       "   FLOW_DURATION_MILLISECONDS        LABEL  \n",
       "0                           0  Normal flow  \n",
       "1                           0  Normal flow  \n",
       "2                           0  Normal flow  \n",
       "3                           0  Normal flow  \n",
       "4                           0  Normal flow  "
      ]
     },
     "execution_count": 4,
     "metadata": {},
     "output_type": "execute_result"
    }
   ],
   "source": [
    "selected_columns = [\n",
    "'DST_TOS', 'SRC_TOS', 'TCP_WIN_SCALE_OUT', 'TCP_WIN_SCALE_IN', 'TCP_FLAGS','TCP_WIN_MAX_OUT', 'PROTOCOL', 'TCP_WIN_MIN_OUT', 'TCP_WIN_MIN_IN','TCP_WIN_MAX_IN', 'LAST_SWITCHED', 'TCP_WIN_MSS_IN', 'TOTAL_FLOWS_EXP','FIRST_SWITCHED', 'FLOW_DURATION_MILLISECONDS', 'LABEL'\n",
    "]\n",
    "data_frame = data_frame[selected_columns]\n",
    "data_frame.head()"
   ]
  },
  {
   "cell_type": "markdown",
   "metadata": {},
   "source": [
    "#### Remove duplicate rows"
   ]
  },
  {
   "cell_type": "code",
   "execution_count": null,
   "metadata": {},
   "outputs": [],
   "source": []
  },
  {
   "cell_type": "markdown",
   "metadata": {},
   "source": [
    "### Task 3: Explore the Dataset"
   ]
  },
  {
   "cell_type": "markdown",
   "metadata": {},
   "source": [
    "#### Display each label and its count via a bar graph\n"
   ]
  },
  {
   "cell_type": "code",
   "execution_count": 5,
   "metadata": {},
   "outputs": [
    {
     "data": {
      "image/png": "[encoded data removed]",
      "text/plain": [
       "<Figure size 640x480 with 1 Axes>"
      ]
     },
     "metadata": {},
     "output_type": "display_data"
    }
   ],
   "source": [
    "grouped_data = data_frame.groupby('LABEL').size()\n",
    "fig, ax = plt.subplots(1)\n",
    "ax.bar(grouped_data.index, grouped_data.values)\n",
    "ax.set(xlabel='LABEL', ylabel='Distinct Count')\n",
    "plt.xticks(rotation=90)\n",
    "plt.show()"
   ]
  },
  {
   "cell_type": "markdown",
   "metadata": {},
   "source": [
    "#### Plot the distinct counts"
   ]
  },
  {
   "cell_type": "code",
   "execution_count": 6,
   "metadata": {},
   "outputs": [
    {
     "data": {
      "image/png": "[encoded data removed]",
      "text/plain": [
       "<Figure size 800x800 with 1 Axes>"
      ]
     },
     "metadata": {},
     "output_type": "display_data"
    }
   ],
   "source": [
    "grouped_data = data_frame['LABEL'].value_counts()\n",
    "fig, ax = plt.subplots(figsize=(8,8))\n",
    "ax.pie(grouped_data.values, labels=grouped_data.index, autopct='%1.1f%%', textprops={'fontsize': 5})\n",
    "ax.set_title('Distribution of LABEL')\n",
    "plt.show()"
   ]
  },
  {
   "cell_type": "markdown",
   "metadata": {},
   "source": [
    "### Task 4: Standardize and Encode the Data"
   ]
  },
  {
   "cell_type": "markdown",
   "metadata": {},
   "source": [
    "#### Create a copy of the data"
   ]
  },
  {
   "cell_type": "code",
   "execution_count": 7,
   "metadata": {},
   "outputs": [],
   "source": [
    "normalized_data = data_frame.copy()\n",
    "numerical_columns = normalized_data.select_dtypes(include=['float64', 'int64']).columns"
   ]
  },
  {
   "cell_type": "markdown",
   "metadata": {},
   "source": [
    "#### Extract the numerical columns to be normalized"
   ]
  },
  {
   "cell_type": "code",
   "execution_count": 8,
   "metadata": {},
   "outputs": [],
   "source": [
    "non_numerical_columns = normalized_data.select_dtypes(exclude=['float64', 'int64']).columns"
   ]
  },
  {
   "cell_type": "markdown",
   "metadata": {},
   "source": [
    "#### Extract the non-numerical columns to be label encoded"
   ]
  },
  {
   "cell_type": "code",
   "execution_count": 9,
   "metadata": {},
   "outputs": [],
   "source": [
    "label_encoder = LabelEncoder()\n",
    "normalized_data[non_numerical_columns] = normalized_data[non_numerical_columns].apply(label_encoder.fit_transform)"
   ]
  },
  {
   "cell_type": "markdown",
   "metadata": {},
   "source": [
    "#### Standardize the numerical columns"
   ]
  },
  {
   "cell_type": "code",
   "execution_count": 10,
   "metadata": {},
   "outputs": [],
   "source": [
    "scaler = StandardScaler() \n",
    "normalized_data[numerical_columns] = scaler.fit_transform(normalized_data[numerical_columns])"
   ]
  },
  {
   "cell_type": "code",
   "execution_count": 11,
   "metadata": {},
   "outputs": [
    {
     "data": {
      "text/html": [
       "<div>\n",
       "<style scoped>\n",
       "    .dataframe tbody tr th:only-of-type {\n",
       "        vertical-align: middle;\n",
       "    }\n",
       "\n",
       "    .dataframe tbody tr th {\n",
       "        vertical-align: top;\n",
       "    }\n",
       "\n",
       "    .dataframe thead th {\n",
       "        text-align: right;\n",
       "    }\n",
       "</style>\n",
       "<table border=\"1\" class=\"dataframe\">\n",
       "  <thead>\n",
       "    <tr style=\"text-align: right;\">\n",
       "      <th></th>\n",
       "      <th>DST_TOS</th>\n",
       "      <th>SRC_TOS</th>\n",
       "      <th>TCP_WIN_SCALE_OUT</th>\n",
       "      <th>TCP_WIN_SCALE_IN</th>\n",
       "      <th>TCP_FLAGS</th>\n",
       "      <th>TCP_WIN_MAX_OUT</th>\n",
       "      <th>PROTOCOL</th>\n",
       "      <th>TCP_WIN_MIN_OUT</th>\n",
       "      <th>TCP_WIN_MIN_IN</th>\n",
       "      <th>TCP_WIN_MAX_IN</th>\n",
       "      <th>LAST_SWITCHED</th>\n",
       "      <th>TCP_WIN_MSS_IN</th>\n",
       "      <th>TOTAL_FLOWS_EXP</th>\n",
       "      <th>FIRST_SWITCHED</th>\n",
       "      <th>FLOW_DURATION_MILLISECONDS</th>\n",
       "      <th>LABEL</th>\n",
       "    </tr>\n",
       "  </thead>\n",
       "  <tbody>\n",
       "    <tr>\n",
       "      <th>0</th>\n",
       "      <td>-0.211035</td>\n",
       "      <td>-0.286614</td>\n",
       "      <td>-0.299933</td>\n",
       "      <td>-0.3367</td>\n",
       "      <td>-1.112694</td>\n",
       "      <td>-0.292102</td>\n",
       "      <td>1.635989</td>\n",
       "      <td>-0.29163</td>\n",
       "      <td>-0.371247</td>\n",
       "      <td>-0.374966</td>\n",
       "      <td>0.811363</td>\n",
       "      <td>-1.091927</td>\n",
       "      <td>-0.886177</td>\n",
       "      <td>0.811365</td>\n",
       "      <td>-0.196348</td>\n",
       "      <td>2</td>\n",
       "    </tr>\n",
       "    <tr>\n",
       "      <th>1</th>\n",
       "      <td>-0.211035</td>\n",
       "      <td>-0.286614</td>\n",
       "      <td>-0.299933</td>\n",
       "      <td>-0.3367</td>\n",
       "      <td>-1.112694</td>\n",
       "      <td>-0.292102</td>\n",
       "      <td>1.635989</td>\n",
       "      <td>-0.29163</td>\n",
       "      <td>-0.371247</td>\n",
       "      <td>-0.374966</td>\n",
       "      <td>0.811363</td>\n",
       "      <td>-1.091927</td>\n",
       "      <td>-0.886176</td>\n",
       "      <td>0.811365</td>\n",
       "      <td>-0.196348</td>\n",
       "      <td>2</td>\n",
       "    </tr>\n",
       "    <tr>\n",
       "      <th>2</th>\n",
       "      <td>1.533774</td>\n",
       "      <td>0.911532</td>\n",
       "      <td>-0.299933</td>\n",
       "      <td>-0.3367</td>\n",
       "      <td>0.767547</td>\n",
       "      <td>-0.292102</td>\n",
       "      <td>-0.500927</td>\n",
       "      <td>-0.29163</td>\n",
       "      <td>-0.308694</td>\n",
       "      <td>-0.312855</td>\n",
       "      <td>0.811363</td>\n",
       "      <td>-1.091927</td>\n",
       "      <td>-0.886175</td>\n",
       "      <td>0.811365</td>\n",
       "      <td>-0.196348</td>\n",
       "      <td>2</td>\n",
       "    </tr>\n",
       "    <tr>\n",
       "      <th>3</th>\n",
       "      <td>-0.211035</td>\n",
       "      <td>-0.286614</td>\n",
       "      <td>-0.299933</td>\n",
       "      <td>-0.3367</td>\n",
       "      <td>-1.112694</td>\n",
       "      <td>-0.292102</td>\n",
       "      <td>1.635989</td>\n",
       "      <td>-0.29163</td>\n",
       "      <td>-0.371247</td>\n",
       "      <td>-0.374966</td>\n",
       "      <td>0.811363</td>\n",
       "      <td>-1.091927</td>\n",
       "      <td>-0.886174</td>\n",
       "      <td>0.811365</td>\n",
       "      <td>-0.196348</td>\n",
       "      <td>2</td>\n",
       "    </tr>\n",
       "    <tr>\n",
       "      <th>4</th>\n",
       "      <td>-0.211035</td>\n",
       "      <td>5.584303</td>\n",
       "      <td>-0.299933</td>\n",
       "      <td>-0.3367</td>\n",
       "      <td>-1.112694</td>\n",
       "      <td>-0.292102</td>\n",
       "      <td>-1.472253</td>\n",
       "      <td>-0.29163</td>\n",
       "      <td>-0.371247</td>\n",
       "      <td>-0.374966</td>\n",
       "      <td>0.811363</td>\n",
       "      <td>-1.091927</td>\n",
       "      <td>-0.886174</td>\n",
       "      <td>0.811365</td>\n",
       "      <td>-0.196348</td>\n",
       "      <td>2</td>\n",
       "    </tr>\n",
       "  </tbody>\n",
       "</table>\n",
       "</div>"
      ],
      "text/plain": [
       "    DST_TOS   SRC_TOS  TCP_WIN_SCALE_OUT  TCP_WIN_SCALE_IN  TCP_FLAGS  \\\n",
       "0 -0.211035 -0.286614          -0.299933           -0.3367  -1.112694   \n",
       "1 -0.211035 -0.286614          -0.299933           -0.3367  -1.112694   \n",
       "2  1.533774  0.911532          -0.299933           -0.3367   0.767547   \n",
       "3 -0.211035 -0.286614          -0.299933           -0.3367  -1.112694   \n",
       "4 -0.211035  5.584303          -0.299933           -0.3367  -1.112694   \n",
       "\n",
       "   TCP_WIN_MAX_OUT  PROTOCOL  TCP_WIN_MIN_OUT  TCP_WIN_MIN_IN  TCP_WIN_MAX_IN  \\\n",
       "0        -0.292102  1.635989         -0.29163       -0.371247       -0.374966   \n",
       "1        -0.292102  1.635989         -0.29163       -0.371247       -0.374966   \n",
       "2        -0.292102 -0.500927         -0.29163       -0.308694       -0.312855   \n",
       "3        -0.292102  1.635989         -0.29163       -0.371247       -0.374966   \n",
       "4        -0.292102 -1.472253         -0.29163       -0.371247       -0.374966   \n",
       "\n",
       "   LAST_SWITCHED  TCP_WIN_MSS_IN  TOTAL_FLOWS_EXP  FIRST_SWITCHED  \\\n",
       "0       0.811363       -1.091927        -0.886177        0.811365   \n",
       "1       0.811363       -1.091927        -0.886176        0.811365   \n",
       "2       0.811363       -1.091927        -0.886175        0.811365   \n",
       "3       0.811363       -1.091927        -0.886174        0.811365   \n",
       "4       0.811363       -1.091927        -0.886174        0.811365   \n",
       "\n",
       "   FLOW_DURATION_MILLISECONDS  LABEL  \n",
       "0                   -0.196348      2  \n",
       "1                   -0.196348      2  \n",
       "2                   -0.196348      2  \n",
       "3                   -0.196348      2  \n",
       "4                   -0.196348      2  "
      ]
     },
     "execution_count": 11,
     "metadata": {},
     "output_type": "execute_result"
    }
   ],
   "source": [
    "normalized_data.head()\n",
    "\n"
   ]
  },
  {
   "cell_type": "markdown",
   "metadata": {},
   "source": [
    "### Task 5: Separate Labels and Split Data into Train and Test Subsets"
   ]
  },
  {
   "cell_type": "markdown",
   "metadata": {},
   "source": [
    "#### Separate data and labels"
   ]
  },
  {
   "cell_type": "code",
   "execution_count": null,
   "metadata": {},
   "outputs": [],
   "source": [
    "X = normalized_data.drop(columns=['LABEL'], axis=1)\n",
    "Y = normalized_data['LABEL']"
   ]
  },
  {
   "cell_type": "markdown",
   "metadata": {},
   "source": [
    "#### Split data into train and test subsets\n"
   ]
  },
  {
   "cell_type": "code",
   "execution_count": null,
   "metadata": {},
   "outputs": [],
   "source": [
    "X_train, X_test, y_train, y_test = train_test_split(X, Y, test_size=0.3, random_state=42)"
   ]
  },
  {
   "cell_type": "markdown",
   "metadata": {},
   "source": [
    "### Task 6: Train Random Forest"
   ]
  },
  {
   "cell_type": "markdown",
   "metadata": {},
   "source": [
    "#### Create a random forest classifier"
   ]
  },
  {
   "cell_type": "code",
   "execution_count": null,
   "metadata": {},
   "outputs": [],
   "source": [
    "rf_classifier = RandomForestClassifier(n_estimators=30)"
   ]
  },
  {
   "cell_type": "markdown",
   "metadata": {},
   "source": [
    "#### Measure the training time"
   ]
  },
  {
   "cell_type": "code",
   "execution_count": null,
   "metadata": {},
   "outputs": [],
   "source": [
    "start_time = time.time()\n",
    "rf_classifier.fit(X_train, y_train)\n",
    "end_time = time.time()\n",
    "training_timeRFC = end_time - start_time"
   ]
  },
  {
   "cell_type": "markdown",
   "metadata": {},
   "source": [
    "### Task 7: Test Random Forest"
   ]
  },
  {
   "cell_type": "markdown",
   "metadata": {},
   "source": [
    "#### Make predictions on the test set\n"
   ]
  },
  {
   "cell_type": "code",
   "execution_count": null,
   "metadata": {},
   "outputs": [],
   "source": [
    "y_pred = rf_classifier.predict(X_test)"
   ]
  },
  {
   "cell_type": "markdown",
   "metadata": {},
   "source": [
    "#### Calculate and print the accuracy, F1 score, precision, and recall"
   ]
  },
  {
   "cell_type": "code",
   "execution_count": null,
   "metadata": {},
   "outputs": [],
   "source": [
    "accuracyRFC = accuracy_score(y_test, y_pred)\n",
    "f1 = f1_score(y_test, y_pred, \"weighted\")\n",
    "precision = precision_score(y_test, y_pred, \"weighted\")\n",
    "recall = recall_score(y_test, y_pred, \"weighted\")\n",
    "print(accuracyRFC)\n",
    "print(f1)\n",
    "print(precision)\n",
    "print(recall)"
   ]
  },
  {
   "cell_type": "markdown",
   "metadata": {},
   "source": [
    "### Task 8: Train Decision Tree"
   ]
  },
  {
   "cell_type": "markdown",
   "metadata": {},
   "source": [
    "#### Create a DecisionTreeClassifier with criterion='entropy' and max_depth=4"
   ]
  },
  {
   "cell_type": "code",
   "execution_count": null,
   "metadata": {},
   "outputs": [],
   "source": [
    "dt_classifier = DecisionTreeClassifier(criterion=\"entropy\", max_depth=4)"
   ]
  },
  {
   "cell_type": "markdown",
   "metadata": {},
   "source": [
    "#### Measure the training time\n"
   ]
  },
  {
   "cell_type": "code",
   "execution_count": null,
   "metadata": {},
   "outputs": [],
   "source": [
    "start_time = time.time()\n",
    "dt_classifier.fit(X_train)\n",
    "end_time = time.time()\n",
    "training_timeDT = end_time - start_time\n",
    "print(training_timeDT)"
   ]
  },
  {
   "cell_type": "markdown",
   "metadata": {},
   "source": [
    "### Task 9: Test Decision Tree"
   ]
  },
  {
   "cell_type": "markdown",
   "metadata": {},
   "source": [
    "#### Make predictions on the test set"
   ]
  },
  {
   "cell_type": "code",
   "execution_count": null,
   "metadata": {},
   "outputs": [],
   "source": [
    "y_pred = dt_classifier.predict(X_test)"
   ]
  },
  {
   "cell_type": "markdown",
   "metadata": {},
   "source": [
    "#### Calculate and print the accuracy, F1 score, precision, and recall"
   ]
  },
  {
   "cell_type": "code",
   "execution_count": null,
   "metadata": {},
   "outputs": [],
   "source": [
    "accuracyDT = accuracy_score(y_test, y_pred)\n",
    "f1 = f1_score(y_test, y_pred, \"weighted\")\n",
    "precision = precision_score(y_test, pred, \"weighted\")\n",
    "recall = recall_score(y_test, y_pred, \"weighted\")\n",
    "\n",
    "print(\"Accuracy:\", accuracyDT)\n",
    "print(\"F1 Score:\", f1)\n",
    "print(\"Precision:\", precision)\n",
    "print(\"Recall:\", recall)"
   ]
  },
  {
   "cell_type": "markdown",
   "metadata": {},
   "source": [
    "### Task 10: Train Naive Bayes"
   ]
  },
  {
   "cell_type": "markdown",
   "metadata": {},
   "source": [
    "#### Create a Gaussian Naive Bayes classifier"
   ]
  },
  {
   "cell_type": "code",
   "execution_count": null,
   "metadata": {},
   "outputs": [],
   "source": [
    "nb_classifier = GaussianNB()"
   ]
  },
  {
   "cell_type": "markdown",
   "metadata": {},
   "source": [
    "#### Measure the training time"
   ]
  },
  {
   "cell_type": "code",
   "execution_count": null,
   "metadata": {},
   "outputs": [],
   "source": [
    "start_time = time.time()\n",
    "nb_classifier.fit(X_train, y_train)\n",
    "end_time = time.time()\n",
    "training_timeNB = end_time - start_time\n",
    "print(\"Training Time:\" training_timeNB)"
   ]
  },
  {
   "cell_type": "markdown",
   "metadata": {},
   "source": [
    "### Task 11: Test Naive Bayes"
   ]
  },
  {
   "cell_type": "markdown",
   "metadata": {},
   "source": [
    "#### Make predictions on the test dataset"
   ]
  },
  {
   "cell_type": "code",
   "execution_count": null,
   "metadata": {},
   "outputs": [],
   "source": []
  },
  {
   "cell_type": "markdown",
   "metadata": {},
   "source": [
    "#### Calculate and print the accuracy, F1 sore, precision, and recall"
   ]
  },
  {
   "cell_type": "code",
   "execution_count": null,
   "metadata": {},
   "outputs": [],
   "source": []
  },
  {
   "cell_type": "markdown",
   "metadata": {},
   "source": [
    "### Task 12: Compare the Accuracy and Training Times"
   ]
  },
  {
   "cell_type": "markdown",
   "metadata": {},
   "source": [
    "#### Accuracy scores and training time of the three algorithms"
   ]
  },
  {
   "cell_type": "code",
   "execution_count": null,
   "metadata": {},
   "outputs": [],
   "source": []
  },
  {
   "cell_type": "markdown",
   "metadata": {},
   "source": [
    "#### Names of the algorithms"
   ]
  },
  {
   "cell_type": "code",
   "execution_count": null,
   "metadata": {},
   "outputs": [],
   "source": []
  },
  {
   "cell_type": "markdown",
   "metadata": {},
   "source": [
    "#### Create a bar plot for accuracy"
   ]
  },
  {
   "cell_type": "code",
   "execution_count": null,
   "metadata": {},
   "outputs": [],
   "source": []
  },
  {
   "cell_type": "markdown",
   "metadata": {},
   "source": [
    "#### Create a bar plot for training time"
   ]
  },
  {
   "cell_type": "code",
   "execution_count": null,
   "metadata": {},
   "outputs": [],
   "source": []
  }
 ],
 "metadata": {
  "kernelspec": {
   "display_name": "Python 3",
   "language": "python",
   "name": "python3"
  },
  "language_info": {
   "codemirror_mode": {
    "name": "ipython",
    "version": 3
   },
   "file_extension": ".py",
   "mimetype": "text/x-python",
   "name": "python",
   "nbconvert_exporter": "python",
   "pygments_lexer": "ipython3",
   "version": "3.12.3"
  },
  "orig_nbformat": 4,
  "vscode": {
   "interpreter": {
    "hash": "916dbcbb3f70747c44a77c7bcd40155683ae19c65e1c03b4aa3499c5328201f1"
   }
  }
 },
 "nbformat": 4,
 "nbformat_minor": 2
}
